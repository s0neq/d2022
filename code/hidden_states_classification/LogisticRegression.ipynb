{
  "nbformat": 4,
  "nbformat_minor": 0,
  "metadata": {
    "colab": {
      "name": "LogisticRegression.ipynb",
      "provenance": [],
      "collapsed_sections": [
        "AI5fSUoKR5XY"
      ],
      "toc_visible": true,
      "authorship_tag": "ABX9TyO2R2EY0Fns8q61od6dOihy"
    },
    "kernelspec": {
      "name": "python3",
      "display_name": "Python 3"
    },
    "language_info": {
      "name": "python"
    }
  },
  "cells": [
    {
      "cell_type": "markdown",
      "source": [
        "# load model"
      ],
      "metadata": {
        "id": "Ww8ILVoZ0QyQ"
      }
    },
    {
      "cell_type": "code",
      "source": [
        "from sklearn.linear_model import LogisticRegression\n",
        "from sklearn.model_selection import train_test_split\n",
        "from tqdm import tqdm"
      ],
      "metadata": {
        "id": "GZnlFPL_4njI"
      },
      "execution_count": 3,
      "outputs": []
    },
    {
      "cell_type": "code",
      "source": [
        "import pandas as pd\n",
        "import numpy as np"
      ],
      "metadata": {
        "id": "BubmAbiyKdV8"
      },
      "execution_count": 4,
      "outputs": []
    },
    {
      "cell_type": "code",
      "source": [
        "import os\n",
        "\n",
        "# from google.colab import drive\n",
        "# drive.mount('/gdrive')"
      ],
      "metadata": {
        "id": "-j_qBLfdKGSv"
      },
      "execution_count": 5,
      "outputs": []
    },
    {
      "cell_type": "code",
      "source": [
        "# df = pd.read_csv(\"/gdrive/My Drive/coco2014/forlogreg.csv\", index_col=False)"
      ],
      "metadata": {
        "id": "NP2UdkloJPJQ"
      },
      "execution_count": null,
      "outputs": []
    },
    {
      "cell_type": "code",
      "source": [
        "! git clone https://github.com/s0neq/d2022.git"
      ],
      "metadata": {
        "colab": {
          "base_uri": "https://localhost:8080/"
        },
        "id": "bEuuUaHKSGCp",
        "outputId": "034cb680-44fe-4743-e596-ad60c6d1bb52"
      },
      "execution_count": 1,
      "outputs": [
        {
          "output_type": "stream",
          "name": "stdout",
          "text": [
            "Cloning into 'd2022'...\n",
            "remote: Enumerating objects: 152, done.\u001b[K\n",
            "remote: Counting objects: 100% (83/83), done.\u001b[K\n",
            "remote: Compressing objects: 100% (79/79), done.\u001b[K\n",
            "remote: Total 152 (delta 31), reused 0 (delta 0), pack-reused 69\u001b[K\n",
            "Receiving objects: 100% (152/152), 32.61 MiB | 10.83 MiB/s, done.\n",
            "Resolving deltas: 100% (74/74), done.\n"
          ]
        }
      ]
    },
    {
      "cell_type": "code",
      "source": [
        "df = pd.read_csv(\"./d2022/code/forlogreg.csv\", index_col=False)"
      ],
      "metadata": {
        "id": "WfzK43SxRZdj"
      },
      "execution_count": 6,
      "outputs": []
    },
    {
      "cell_type": "markdown",
      "source": [
        "rudalle"
      ],
      "metadata": {
        "id": "rvL9u_e36EOk"
      }
    },
    {
      "cell_type": "code",
      "source": [
        "! pip install git+https://github.com/sberbank-ai/ru-dalle.git > /dev/null\n"
      ],
      "metadata": {
        "colab": {
          "base_uri": "https://localhost:8080/"
        },
        "id": "BCZKAGBJ6FnV",
        "outputId": "8026882d-46d8-4ca9-a124-1055f1a4d658"
      },
      "execution_count": null,
      "outputs": [
        {
          "output_type": "stream",
          "name": "stdout",
          "text": [
            "  Running command git clone -q https://github.com/sberbank-ai/ru-dalle.git /tmp/pip-req-build-j2xu9jlt\n"
          ]
        }
      ]
    },
    {
      "cell_type": "code",
      "source": [
        "import rudalle"
      ],
      "metadata": {
        "id": "FDHyE0DE6NZh"
      },
      "execution_count": null,
      "outputs": []
    },
    {
      "cell_type": "code",
      "source": [
        "import torch \n",
        "import torch.nn as nn"
      ],
      "metadata": {
        "id": "UbpCBlzt5pfg"
      },
      "execution_count": null,
      "outputs": []
    },
    {
      "cell_type": "code",
      "source": [
        "from rudalle.dalle.transformer import DalleTransformer, DalleTransformerLayer"
      ],
      "metadata": {
        "id": "wNpPfyF-9zOn"
      },
      "execution_count": null,
      "outputs": []
    },
    {
      "cell_type": "code",
      "source": [
        "import transformers\n",
        "import more_itertools\n",
        "from tqdm.auto import tqdm\n",
        "\n",
        "# from rudalle.pipelines import show #cherry_pick_by_clip\n",
        "from rudalle import get_rudalle_model, get_tokenizer #, get_vae #, get_ruclip\n",
        "from rudalle.utils import seed_everything, torch_tensors_to_pil_list\n",
        "\n",
        "# prepare models:\n",
        "device = 'cuda'\n",
        "dalle = get_rudalle_model('Malevich', pretrained=True, fp16=True, device=device)\n",
        "\n",
        "# device = 'cpu'\n",
        "# dalle = get_rudalle_model('Malevich', pretrained=True, fp16=False, device=device)\n",
        "\n",
        "tokenizer = get_tokenizer()"
      ],
      "metadata": {
        "colab": {
          "base_uri": "https://localhost:8080/"
        },
        "id": "vYT76acD6UR_",
        "outputId": "8c54e8fb-5c8e-4c0d-eda0-86f29622feea"
      },
      "execution_count": null,
      "outputs": [
        {
          "output_type": "stream",
          "name": "stdout",
          "text": [
            "◼️ Malevich is 1.3 billion params model from the family GPT3-like, that uses Russian language and text+image multi-modality.\n",
            "tokenizer --> ready\n"
          ]
        }
      ]
    },
    {
      "cell_type": "code",
      "source": [
        "DALLE_BS = 1\n",
        "LAYER_NUM = 24"
      ],
      "metadata": {
        "id": "ZfgrHr3h6RB7"
      },
      "execution_count": null,
      "outputs": []
    },
    {
      "cell_type": "markdown",
      "source": [
        "dalle was initialized\n",
        "check the hook"
      ],
      "metadata": {
        "id": "LUlUXRak6i1c"
      }
    },
    {
      "cell_type": "markdown",
      "source": [
        "# conditional hook"
      ],
      "metadata": {
        "id": "d_XmNUrb0dLe"
      }
    },
    {
      "cell_type": "markdown",
      "source": [
        "You can register a hook on a Tensor or a nn.Module"
      ],
      "metadata": {
        "id": "TKhlbydN1FBJ"
      }
    },
    {
      "cell_type": "markdown",
      "source": [
        "forward and backward functions of an Autograd.Function object"
      ],
      "metadata": {
        "id": "GNkJLHia1dbY"
      }
    },
    {
      "cell_type": "markdown",
      "source": [
        "note: чтобы перерегать хуки (при изменении ф-и хука), надо перезагрузить модель"
      ],
      "metadata": {
        "id": "NzDP9LqJG8rS"
      }
    },
    {
      "cell_type": "code",
      "source": [
        "visualisation = []\n",
        "\n",
        "def hook_fn(m, i, o):\n",
        "  # print(\"DEBUG m \", m)\n",
        "  visualisation.append(o)"
      ],
      "metadata": {
        "id": "Qk1doopbCCCw"
      },
      "execution_count": null,
      "outputs": []
    },
    {
      "cell_type": "code",
      "source": [
        "for key in dalle._modules.keys(): # 1 key # DalleModel\n",
        "  print(len(dalle._modules[key]._modules.keys())) # 8 keys\n",
        "  for name, layer in dalle._modules[key]._modules.items():\n",
        "    if isinstance(layer, DalleTransformer): # rudalle.dalle.transformer.DalleTransformerLayer\n",
        "      print(len(layer._modules.keys())) # 2 keys: odict_keys(['layers', 'final_layernorm'])\n",
        "      print(len(layer._modules[\"layers\"])) \n",
        "\n",
        "      for i, tlayer in enumerate(layer._modules[\"layers\"]):\n",
        "        tlayer.register_forward_hook(hook_fn)\n",
        "        print(i, \"registered\", end=\" \")\n",
        "      \n"
      ],
      "metadata": {
        "colab": {
          "base_uri": "https://localhost:8080/"
        },
        "id": "stLzrTFmBLqV",
        "outputId": "ef3b5427-7675-452d-b40c-f6a7a2374b02"
      },
      "execution_count": null,
      "outputs": [
        {
          "output_type": "stream",
          "name": "stdout",
          "text": [
            "8\n",
            "2\n",
            "24\n",
            "0 registered 1 registered 2 registered 3 registered 4 registered 5 registered 6 registered 7 registered 8 registered 9 registered 10 registered 11 registered 12 registered 13 registered 14 registered 15 registered 16 registered 17 registered 18 registered 19 registered 20 registered 21 registered 22 registered 23 registered "
          ]
        }
      ]
    },
    {
      "cell_type": "code",
      "source": [
        "# for 1 caption\n",
        "def generate_codebooks(text, tokenizer, dalle, top_k, top_p, images_num, image_prompts=None, temperature=1.0, bs=8,\n",
        "                    seed=None, use_cache=True):\n",
        "    vocab_size = dalle.get_param('vocab_size')\n",
        "    text_seq_length = dalle.get_param('text_seq_length')\n",
        "    image_seq_length = dalle.get_param('image_seq_length')\n",
        "    total_seq_length = dalle.get_param('total_seq_length')\n",
        "    device = dalle.get_param('device')\n",
        "    text = text.lower().strip()\n",
        "    input_ids = tokenizer.encode_text(text, text_seq_length=text_seq_length)\n",
        "    \n",
        "    # codebooks = []\n",
        "    for chunk in more_itertools.chunked(range(images_num), bs):\n",
        "        chunk_bs = len(chunk)\n",
        "        with torch.no_grad():\n",
        "            attention_mask = torch.tril(torch.ones((chunk_bs, 1, total_seq_length, total_seq_length), device=device))\n",
        "            out = input_ids.unsqueeze(0).repeat(chunk_bs, 1).to(device)\n",
        "            # print(\"out.shape\", out.shape)\n",
        "\n",
        "            # has_cache = False\n",
        "\n",
        "            logits, has_cache = dalle(out, \n",
        "                                      attention_mask, \n",
        "                                      # has_cache=has_cache, \n",
        "                                      use_cache=use_cache, \n",
        "                                      return_loss=False)"
      ],
      "metadata": {
        "id": "l4ckncwMKz4s"
      },
      "execution_count": null,
      "outputs": []
    },
    {
      "cell_type": "code",
      "source": [
        "seed_everything(42)\n",
        "top_k, top_p, images_num = 128, 0.95, 1"
      ],
      "metadata": {
        "id": "yFsWoCJgKz7k"
      },
      "execution_count": null,
      "outputs": []
    },
    {
      "cell_type": "code",
      "source": [
        "def get_24layers_for1cap(first_sent):\n",
        "  generate_codebooks(first_sent, tokenizer, dalle,\n",
        "                                    top_k=top_k, images_num=images_num,\n",
        "                                    top_p=top_p, bs=DALLE_BS,\n",
        "                                    use_cache=False)"
      ],
      "metadata": {
        "id": "-thKPl8wKzt0"
      },
      "execution_count": null,
      "outputs": []
    },
    {
      "cell_type": "markdown",
      "source": [
        "# log reg"
      ],
      "metadata": {
        "id": "SmnqEl9XXCqj"
      }
    },
    {
      "cell_type": "code",
      "source": [
        "def preds_layer(X_train, y_train, X_test, y_test, pipe, layer_ind, name=\"feature\"):\n",
        "    pipe.fit(X_train, y_train)\n",
        "\n",
        "    print(\"score is \", pipe.score(X_test, y_test))\n",
        "    final_for_exp.append({\"score\": pipe.score(X_test, y_test), \n",
        "                          \"layer_index\": layer_ind, \n",
        "                          \"name\": name})\n"
      ],
      "metadata": {
        "id": "T_sFnKwdX1n4"
      },
      "execution_count": null,
      "outputs": []
    },
    {
      "cell_type": "code",
      "source": [
        "from sklearn.utils import shuffle\n",
        "from sklearn.linear_model import LogisticRegression\n",
        "from sklearn.pipeline import make_pipeline\n",
        "from sklearn.preprocessing import StandardScaler\n",
        "\n",
        "pipe = make_pipeline(StandardScaler(), LogisticRegression(random_state=42, max_iter=100000000000))"
      ],
      "metadata": {
        "id": "mtkiFK00Xuyf"
      },
      "execution_count": null,
      "outputs": []
    },
    {
      "cell_type": "code",
      "source": [
        "def pred_for_layer(i, name, ys):\n",
        "  X = np.vstack(tensors[i])\n",
        "  y = np.array(ys)\n",
        "  X, y = shuffle(X, y, random_state=42)\n",
        "  X_train, X_test, y_train, y_test = train_test_split(X, y, random_state=42)\n",
        "  preds_layer(X_train, y_train, X_test, y_test, pipe, i, name=name)\n",
        "  \n"
      ],
      "metadata": {
        "id": "tTWbKPxtyt_k"
      },
      "execution_count": null,
      "outputs": []
    },
    {
      "cell_type": "code",
      "source": [
        "def res(name, caps, ys, visualisation):\n",
        "  for capind in range(len(caps)):\n",
        "    for i, hs in enumerate(visualisation[capind*24:24+24*capind]):\n",
        "      hs_sq = hs[0].squeeze(0)\n",
        "      onevec = hs_sq.mean(0).cpu()\n",
        "      tensors[i].append(np.array(onevec, dtype=np.float64))\n",
        "\n"
      ],
      "metadata": {
        "id": "6xJCX-p2zdkq"
      },
      "execution_count": null,
      "outputs": []
    },
    {
      "cell_type": "markdown",
      "source": [
        "# root tense"
      ],
      "metadata": {
        "id": "6Fwrq0g3UWCZ"
      }
    },
    {
      "cell_type": "markdown",
      "source": [
        "280 samples for each tense"
      ],
      "metadata": {
        "id": "h6ckWZSG-zGY"
      }
    },
    {
      "cell_type": "code",
      "source": [
        "tensedf = df[df['root_Tense_error_sent'].notnull()]\n",
        "caps = []\n",
        "ys = []\n",
        "\n",
        "# present -> label 0\n",
        "caps += list(tensedf.sent)\n",
        "ys += [0 for i in range(tensedf.shape[0])]\n",
        "\n",
        "# past -> label 1\n",
        "caps += list(tensedf.root_Tense_error_sent)\n",
        "# words += list(tensedf.root_Tense_error_word)\n",
        "ys += [1 for i in range(tensedf.shape[0])]\n",
        "\n",
        "# future -> label 2\n",
        "caps += list(tensedf.root_Tense_error_sent1)\n",
        "# words += list(tensedf.root_Tense_error_word1)\n",
        "ys += [2 for i in range(tensedf.shape[0])]\n"
      ],
      "metadata": {
        "id": "vTKy3AqlUX6j"
      },
      "execution_count": null,
      "outputs": []
    },
    {
      "cell_type": "markdown",
      "source": [
        "got all hs"
      ],
      "metadata": {
        "id": "9LLNyNldBWBi"
      }
    },
    {
      "cell_type": "code",
      "source": [
        "final_for_exp = []"
      ],
      "metadata": {
        "id": "FN_yKhIVyrBG"
      },
      "execution_count": null,
      "outputs": []
    },
    {
      "cell_type": "code",
      "source": [
        "tensors = {ind: [] for ind in range(24)}"
      ],
      "metadata": {
        "id": "3QUfgNWh6kEo"
      },
      "execution_count": null,
      "outputs": []
    },
    {
      "cell_type": "markdown",
      "source": [
        "filled tensors"
      ],
      "metadata": {
        "id": "Nh5OELoPDl5Q"
      }
    },
    {
      "cell_type": "code",
      "source": [
        "for text in caps:\n",
        "    # input_ids = get_input_ids(text)\n",
        "    get_24layers_for1cap(text)"
      ],
      "metadata": {
        "id": "SAX6YLJS_3ic"
      },
      "execution_count": null,
      "outputs": []
    },
    {
      "cell_type": "code",
      "source": [
        "len(visualisation)"
      ],
      "metadata": {
        "colab": {
          "base_uri": "https://localhost:8080/"
        },
        "id": "qqnbKwwL47GC",
        "outputId": "2d351490-a3b3-44d8-9b18-cc2c88be4357"
      },
      "execution_count": null,
      "outputs": [
        {
          "output_type": "execute_result",
          "data": {
            "text/plain": [
              "20160"
            ]
          },
          "metadata": {},
          "execution_count": 27
        }
      ]
    },
    {
      "cell_type": "code",
      "source": [
        "20160/len(caps)"
      ],
      "metadata": {
        "colab": {
          "base_uri": "https://localhost:8080/"
        },
        "id": "ojRyL7JyBGbQ",
        "outputId": "ee8980be-4490-43f9-fceb-8785552a4a0f"
      },
      "execution_count": null,
      "outputs": [
        {
          "output_type": "execute_result",
          "data": {
            "text/plain": [
              "24.0"
            ]
          },
          "metadata": {},
          "execution_count": 28
        }
      ]
    },
    {
      "cell_type": "code",
      "source": [
        "res(\"root_Tense\", caps, ys, visualisation)"
      ],
      "metadata": {
        "id": "spOACx6U2PEU"
      },
      "execution_count": null,
      "outputs": []
    },
    {
      "cell_type": "code",
      "source": [
        "len(tensors[0]), len(tensors[4])"
      ],
      "metadata": {
        "colab": {
          "base_uri": "https://localhost:8080/"
        },
        "id": "OK92PwDa524N",
        "outputId": "b84ae984-cd7c-48e8-f675-eebee3bfce49"
      },
      "execution_count": null,
      "outputs": [
        {
          "output_type": "execute_result",
          "data": {
            "text/plain": [
              "(840, 840)"
            ]
          },
          "metadata": {},
          "execution_count": 65
        }
      ]
    },
    {
      "cell_type": "code",
      "source": [
        "for i in range(24):\n",
        "  pred_for_layer(i, name=\"root_Tense\", ys=ys)\n"
      ],
      "metadata": {
        "colab": {
          "base_uri": "https://localhost:8080/"
        },
        "id": "-sZryW7hEEE4",
        "outputId": "fae61b71-cb85-46d4-fd27-6e4beeeb6475"
      },
      "execution_count": null,
      "outputs": [
        {
          "output_type": "stream",
          "name": "stdout",
          "text": [
            "score is  0.9095238095238095\n",
            "score is  0.9047619047619048\n",
            "score is  0.8952380952380953\n",
            "score is  0.8857142857142857\n",
            "score is  0.8857142857142857\n",
            "score is  0.8904761904761904\n",
            "score is  0.8809523809523809\n",
            "score is  0.8761904761904762\n",
            "score is  0.8952380952380953\n",
            "score is  0.8904761904761904\n",
            "score is  0.8904761904761904\n",
            "score is  0.8904761904761904\n",
            "score is  0.8857142857142857\n",
            "score is  0.8952380952380953\n",
            "score is  0.8809523809523809\n",
            "score is  0.8857142857142857\n",
            "score is  0.8904761904761904\n",
            "score is  0.8904761904761904\n",
            "score is  0.8809523809523809\n",
            "score is  0.8952380952380953\n",
            "score is  0.9\n",
            "score is  0.9\n",
            "score is  0.9095238095238095\n",
            "score is  0.9142857142857143\n"
          ]
        }
      ]
    },
    {
      "cell_type": "code",
      "source": [
        "final_for_exp"
      ],
      "metadata": {
        "colab": {
          "base_uri": "https://localhost:8080/"
        },
        "id": "aY4PF4rVyog1",
        "outputId": "cffa2b63-a685-456d-fc02-84f22786f295"
      },
      "execution_count": null,
      "outputs": [
        {
          "output_type": "execute_result",
          "data": {
            "text/plain": [
              "[{'layer_index': 0, 'name': 'root_Tense', 'score': 0.9095238095238095},\n",
              " {'layer_index': 1, 'name': 'root_Tense', 'score': 0.9047619047619048},\n",
              " {'layer_index': 2, 'name': 'root_Tense', 'score': 0.8952380952380953},\n",
              " {'layer_index': 3, 'name': 'root_Tense', 'score': 0.8857142857142857},\n",
              " {'layer_index': 4, 'name': 'root_Tense', 'score': 0.8857142857142857},\n",
              " {'layer_index': 5, 'name': 'root_Tense', 'score': 0.8904761904761904},\n",
              " {'layer_index': 6, 'name': 'root_Tense', 'score': 0.8809523809523809},\n",
              " {'layer_index': 7, 'name': 'root_Tense', 'score': 0.8761904761904762},\n",
              " {'layer_index': 8, 'name': 'root_Tense', 'score': 0.8952380952380953},\n",
              " {'layer_index': 9, 'name': 'root_Tense', 'score': 0.8904761904761904},\n",
              " {'layer_index': 10, 'name': 'root_Tense', 'score': 0.8904761904761904},\n",
              " {'layer_index': 11, 'name': 'root_Tense', 'score': 0.8904761904761904},\n",
              " {'layer_index': 12, 'name': 'root_Tense', 'score': 0.8857142857142857},\n",
              " {'layer_index': 13, 'name': 'root_Tense', 'score': 0.8952380952380953},\n",
              " {'layer_index': 14, 'name': 'root_Tense', 'score': 0.8809523809523809},\n",
              " {'layer_index': 15, 'name': 'root_Tense', 'score': 0.8857142857142857},\n",
              " {'layer_index': 16, 'name': 'root_Tense', 'score': 0.8904761904761904},\n",
              " {'layer_index': 17, 'name': 'root_Tense', 'score': 0.8904761904761904},\n",
              " {'layer_index': 18, 'name': 'root_Tense', 'score': 0.8809523809523809},\n",
              " {'layer_index': 19, 'name': 'root_Tense', 'score': 0.8952380952380953},\n",
              " {'layer_index': 20, 'name': 'root_Tense', 'score': 0.9},\n",
              " {'layer_index': 21, 'name': 'root_Tense', 'score': 0.9},\n",
              " {'layer_index': 22, 'name': 'root_Tense', 'score': 0.9095238095238095},\n",
              " {'layer_index': 23, 'name': 'root_Tense', 'score': 0.9142857142857143}]"
            ]
          },
          "metadata": {},
          "execution_count": 67
        }
      ]
    },
    {
      "cell_type": "code",
      "source": [
        "# pd.DataFrame(final_for_exp).to_csv(\"/gdrive/My Drive/coco2014/gramfeat/root_tense_layers.csv\", index=False)"
      ],
      "metadata": {
        "id": "kfqhz9HODtw9"
      },
      "execution_count": null,
      "outputs": []
    },
    {
      "cell_type": "markdown",
      "source": [
        "# other features"
      ],
      "metadata": {
        "id": "pcKIzgSyG7yX"
      }
    },
    {
      "cell_type": "code",
      "source": [
        "df.columns"
      ],
      "metadata": {
        "colab": {
          "base_uri": "https://localhost:8080/"
        },
        "id": "qeVpdp-xHIEk",
        "outputId": "9ce08c49-4480-4a72-ff54-696770718a8f"
      },
      "execution_count": null,
      "outputs": [
        {
          "output_type": "execute_result",
          "data": {
            "text/plain": [
              "Index(['img_id', 'caption_id', 'sent', 'nsubj_word', 'nsubj_start',\n",
              "       'nsubj_stop', 'nsubj_pos', 'nsubj_Animacy', 'nsubj_Case',\n",
              "       'nsubj_Gender', 'nsubj_Number', 'root_word', 'root_start', 'root_stop',\n",
              "       'root_pos', 'root_Aspect', 'root_Gender', 'root_Mood', 'root_Number',\n",
              "       'root_Tense', 'root_VerbForm', 'root_Voice', 'root_Person',\n",
              "       'nsubj_ADJ_start', 'nsubj_ADJ_stop', 'obj_word', 'obj_start',\n",
              "       'obj_stop', 'obj_pos', 'obj_Animacy', 'obj_Case', 'obj_Gender',\n",
              "       'obj_Number', 'root_Animacy', 'root_Case', 'obj_Person', 'root_Variant',\n",
              "       'root_Degree', 'nsubj_Person', 'nsubj_Degree', 'nsubj_Aspect',\n",
              "       'nsubj_Tense', 'nsubj_VerbForm', 'nsubj_Voice', 'nsubj_Variant',\n",
              "       'root_Foreign', 'obj_Degree', 'obj_Aspect', 'obj_Tense', 'obj_VerbForm',\n",
              "       'obj_Voice', 'root_Tense_error_sent', 'root_Tense_error_val',\n",
              "       'root_Tense_error_sent1', 'root_Tense_error_val1'],\n",
              "      dtype='object')"
            ]
          },
          "metadata": {},
          "execution_count": 20
        }
      ]
    },
    {
      "cell_type": "code",
      "source": [
        "def get_data(df, feat):\n",
        "  return df[df[feat].notnull()]"
      ],
      "metadata": {
        "id": "BbD3yyzjHOzO"
      },
      "execution_count": null,
      "outputs": []
    },
    {
      "cell_type": "code",
      "source": [
        "tensedf.root_Aspect.value_counts()"
      ],
      "metadata": {
        "colab": {
          "base_uri": "https://localhost:8080/"
        },
        "id": "9FKWmxBnNRMq",
        "outputId": "8b4dde9f-8794-4bc1-823f-95efd9dff587"
      },
      "execution_count": null,
      "outputs": [
        {
          "output_type": "execute_result",
          "data": {
            "text/plain": [
              "Imp     977\n",
              "Perf     94\n",
              "Name: root_Aspect, dtype: int64"
            ]
          },
          "metadata": {},
          "execution_count": 23
        }
      ]
    },
    {
      "cell_type": "code",
      "source": [
        "tensedf.root_Number.value_counts()"
      ],
      "metadata": {
        "colab": {
          "base_uri": "https://localhost:8080/"
        },
        "id": "yG2AgbWtNoUs",
        "outputId": "7e13782a-1c5a-424c-f587-b9c9bba5ff3b"
      },
      "execution_count": null,
      "outputs": [
        {
          "output_type": "execute_result",
          "data": {
            "text/plain": [
              "Sing    847\n",
              "Plur    222\n",
              "Name: root_Number, dtype: int64"
            ]
          },
          "metadata": {},
          "execution_count": 24
        }
      ]
    },
    {
      "cell_type": "code",
      "source": [
        "tensedf.nsubj_Animacy.value_counts()"
      ],
      "metadata": {
        "colab": {
          "base_uri": "https://localhost:8080/"
        },
        "id": "fAO4IgaaN18h",
        "outputId": "5b68b697-7013-4865-9bbb-ee90879a43cc"
      },
      "execution_count": null,
      "outputs": [
        {
          "output_type": "execute_result",
          "data": {
            "text/plain": [
              "Anim    648\n",
              "Inan    336\n",
              "Name: nsubj_Animacy, dtype: int64"
            ]
          },
          "metadata": {},
          "execution_count": 25
        }
      ]
    },
    {
      "cell_type": "code",
      "source": [
        "tensedf.nsubj_Gender.value_counts()"
      ],
      "metadata": {
        "colab": {
          "base_uri": "https://localhost:8080/"
        },
        "id": "qUPK9AL2N2S7",
        "outputId": "0a1e7e3b-97e5-47ce-c2db-dfad3f279457"
      },
      "execution_count": null,
      "outputs": [
        {
          "output_type": "execute_result",
          "data": {
            "text/plain": [
              "Masc    613\n",
              "Fem     352\n",
              "Neut     27\n",
              "Name: nsubj_Gender, dtype: int64"
            ]
          },
          "metadata": {},
          "execution_count": 26
        }
      ]
    },
    {
      "cell_type": "code",
      "source": [
        "tensedf[tensedf.nsubj_Gender != \"Neut\"].nsubj_Gender.value_counts()"
      ],
      "metadata": {
        "colab": {
          "base_uri": "https://localhost:8080/"
        },
        "id": "PlmJwJWgN062",
        "outputId": "de950847-ee5d-4f8a-cd58-e37b9ba81546"
      },
      "execution_count": null,
      "outputs": [
        {
          "output_type": "execute_result",
          "data": {
            "text/plain": [
              "Masc    613\n",
              "Fem     352\n",
              "Name: nsubj_Gender, dtype: int64"
            ]
          },
          "metadata": {},
          "execution_count": 28
        }
      ]
    },
    {
      "cell_type": "code",
      "source": [
        "tensedf.nsubj_Number.value_counts()\n"
      ],
      "metadata": {
        "colab": {
          "base_uri": "https://localhost:8080/"
        },
        "id": "WVmFQLbsOmTb",
        "outputId": "d8c79c9b-861b-4bea-ebf5-f50ae52525f4"
      },
      "execution_count": null,
      "outputs": [
        {
          "output_type": "execute_result",
          "data": {
            "text/plain": [
              "Sing    898\n",
              "Plur     94\n",
              "Name: nsubj_Number, dtype: int64"
            ]
          },
          "metadata": {},
          "execution_count": 29
        }
      ]
    },
    {
      "cell_type": "code",
      "source": [
        "feats = {\"root_Aspect\":94, \"root_Number\": 222, \"nsubj_Animacy\":336, \"nsubj_Gender\":352, \"nsubj_Number\":94}"
      ],
      "metadata": {
        "id": "_sYCBAMsNZGX"
      },
      "execution_count": null,
      "outputs": []
    },
    {
      "cell_type": "code",
      "source": [
        "\n",
        "for feat in feats:\n",
        "  tensedf = get_data(df, feat)\n",
        "  if feat == \"nsubj_Gender\":\n",
        "    tensedf = tensedf[tensedf.nsubj_Gender != \"Neut\"]\n",
        "\n",
        "  caps = []\n",
        "  ys = []\n",
        "\n",
        "  caps += list(tensedf.sent)[:500] # NOT balance min\n",
        "  ys += list(tensedf[feat])[:500]\n",
        "\n",
        "  print(len(caps), len(ys))\n",
        "\n",
        "  visualisation = []\n",
        "  final_for_exp = []\n",
        "\n",
        "  for text in caps:\n",
        "    # input_ids = get_input_ids(text)\n",
        "    get_24layers_for1cap(text)\n",
        "  \n",
        "  tensors = {ind: [] for ind in range(24)}\n",
        "\n",
        "  res(feat, caps, ys, visualisation)\n",
        "\n",
        "  for i in range(24):\n",
        "    pred_for_layer(i, name=feat, ys=ys)\n",
        "  \n",
        "  pd.DataFrame(final_for_exp).to_csv(\"/gdrive/My Drive/coco2014/gramfeat/\" + feat+ \"_layers2.csv\", index=False)\n",
        "\n"
      ],
      "metadata": {
        "colab": {
          "base_uri": "https://localhost:8080/"
        },
        "id": "C5uBFZnIXMUe",
        "outputId": "c108a3d1-94b1-443a-81a3-f7712ff5c1f4"
      },
      "execution_count": null,
      "outputs": [
        {
          "output_type": "stream",
          "name": "stdout",
          "text": [
            "500 500\n",
            "score is  0.944\n",
            "score is  0.952\n",
            "score is  0.944\n",
            "score is  0.944\n",
            "score is  0.944\n",
            "score is  0.944\n",
            "score is  0.944\n",
            "score is  0.944\n",
            "score is  0.944\n",
            "score is  0.944\n",
            "score is  0.944\n",
            "score is  0.944\n",
            "score is  0.944\n",
            "score is  0.944\n",
            "score is  0.952\n",
            "score is  0.952\n",
            "score is  0.952\n",
            "score is  0.952\n",
            "score is  0.952\n",
            "score is  0.952\n",
            "score is  0.952\n",
            "score is  0.952\n",
            "score is  0.952\n",
            "score is  0.952\n",
            "500 500\n",
            "score is  0.872\n",
            "score is  0.912\n",
            "score is  0.88\n",
            "score is  0.864\n",
            "score is  0.832\n",
            "score is  0.848\n",
            "score is  0.856\n",
            "score is  0.864\n",
            "score is  0.872\n",
            "score is  0.888\n",
            "score is  0.888\n",
            "score is  0.896\n",
            "score is  0.904\n",
            "score is  0.896\n",
            "score is  0.904\n",
            "score is  0.904\n",
            "score is  0.896\n",
            "score is  0.896\n",
            "score is  0.904\n",
            "score is  0.92\n",
            "score is  0.928\n",
            "score is  0.944\n",
            "score is  0.936\n",
            "score is  0.936\n",
            "500 500\n",
            "score is  0.904\n",
            "score is  0.896\n",
            "score is  0.88\n",
            "score is  0.88\n",
            "score is  0.872\n",
            "score is  0.872\n",
            "score is  0.88\n",
            "score is  0.872\n",
            "score is  0.904\n",
            "score is  0.896\n",
            "score is  0.872\n",
            "score is  0.88\n",
            "score is  0.88\n",
            "score is  0.888\n",
            "score is  0.872\n",
            "score is  0.888\n",
            "score is  0.896\n",
            "score is  0.92\n",
            "score is  0.92\n",
            "score is  0.912\n",
            "score is  0.92\n",
            "score is  0.912\n",
            "score is  0.92\n",
            "score is  0.912\n",
            "500 500\n",
            "score is  0.872\n",
            "score is  0.896\n",
            "score is  0.872\n",
            "score is  0.864\n",
            "score is  0.864\n",
            "score is  0.88\n",
            "score is  0.872\n",
            "score is  0.888\n",
            "score is  0.92\n",
            "score is  0.896\n",
            "score is  0.912\n",
            "score is  0.904\n",
            "score is  0.904\n",
            "score is  0.912\n",
            "score is  0.912\n",
            "score is  0.904\n",
            "score is  0.928\n",
            "score is  0.912\n",
            "score is  0.936\n",
            "score is  0.936\n",
            "score is  0.936\n",
            "score is  0.92\n",
            "score is  0.944\n",
            "score is  0.928\n",
            "500 500\n",
            "score is  0.88\n",
            "score is  0.912\n",
            "score is  0.896\n",
            "score is  0.912\n",
            "score is  0.904\n",
            "score is  0.912\n",
            "score is  0.904\n",
            "score is  0.904\n",
            "score is  0.904\n",
            "score is  0.912\n",
            "score is  0.904\n",
            "score is  0.904\n",
            "score is  0.904\n",
            "score is  0.912\n",
            "score is  0.904\n",
            "score is  0.904\n",
            "score is  0.912\n",
            "score is  0.904\n",
            "score is  0.904\n",
            "score is  0.896\n",
            "score is  0.896\n",
            "score is  0.928\n",
            "score is  0.928\n",
            "score is  0.936\n"
          ]
        }
      ]
    },
    {
      "cell_type": "markdown",
      "source": [
        "# plot classifiers results"
      ],
      "metadata": {
        "id": "-gBG612HWN-X"
      }
    },
    {
      "cell_type": "code",
      "source": [
        "temp = pd.read_csv(\"/gdrive/My Drive/coco2014/gramfeat/\" + \"root_tense\"+ \"_layers.csv\", index_col=False)"
      ],
      "metadata": {
        "id": "dzC9VQq6TKk9"
      },
      "execution_count": null,
      "outputs": []
    },
    {
      "cell_type": "code",
      "source": [
        "temp = temp.drop(columns=[\"name\"])"
      ],
      "metadata": {
        "id": "kbvONGHwUZEM"
      },
      "execution_count": null,
      "outputs": []
    },
    {
      "cell_type": "code",
      "source": [
        "temp.set_index(\"layer_index\", inplace=True)"
      ],
      "metadata": {
        "id": "9qinWpbETSEc"
      },
      "execution_count": null,
      "outputs": []
    },
    {
      "cell_type": "code",
      "source": [
        "for feat in feats:\n",
        "  add = pd.read_csv(\"/gdrive/My Drive/coco2014/gramfeat/\" + feat+ \"_layers2.csv\", index_col=False)\n",
        "  suf = list(add.name)[0]\n",
        "  temp = temp.join(add.set_index(\"layer_index\")[[\"score\"]], rsuffix='_'+suf)\n"
      ],
      "metadata": {
        "id": "7nOWOi7xYIQO"
      },
      "execution_count": null,
      "outputs": []
    },
    {
      "cell_type": "code",
      "source": [
        "temp.rename(columns={\"score\": \"score_root_Tense\"}, inplace=True)"
      ],
      "metadata": {
        "id": "V0l-ktG0UGe5"
      },
      "execution_count": null,
      "outputs": []
    },
    {
      "cell_type": "code",
      "source": [
        "temp.head()"
      ],
      "metadata": {
        "colab": {
          "base_uri": "https://localhost:8080/",
          "height": 287
        },
        "id": "ToZJwt3bTOI9",
        "outputId": "1da335c2-af7b-4f54-d935-9c06ecb1481c"
      },
      "execution_count": null,
      "outputs": [
        {
          "output_type": "execute_result",
          "data": {
            "text/plain": [
              "             score_root_Tense  score_root_Aspect  score_root_Number  \\\n",
              "layer_index                                                           \n",
              "0                    0.909524           0.916667           0.875000   \n",
              "1                    0.904762           0.916667           0.910714   \n",
              "2                    0.895238           0.916667           0.839286   \n",
              "3                    0.885714           0.916667           0.857143   \n",
              "4                    0.885714           0.916667           0.857143   \n",
              "\n",
              "             score_nsubj_Animacy  score_nsubj_Gender  score_nsubj_Number  \n",
              "layer_index                                                               \n",
              "0                       0.964286            0.886364            0.875000  \n",
              "1                       0.952381            0.920455            0.833333  \n",
              "2                       0.940476            0.931818            0.916667  \n",
              "3                       0.952381            0.931818            0.875000  \n",
              "4                       0.952381            0.909091            0.875000  "
            ],
            "text/html": [
              "\n",
              "  <div id=\"df-285265ba-60e1-4d17-9aad-620372da4c97\">\n",
              "    <div class=\"colab-df-container\">\n",
              "      <div>\n",
              "<style scoped>\n",
              "    .dataframe tbody tr th:only-of-type {\n",
              "        vertical-align: middle;\n",
              "    }\n",
              "\n",
              "    .dataframe tbody tr th {\n",
              "        vertical-align: top;\n",
              "    }\n",
              "\n",
              "    .dataframe thead th {\n",
              "        text-align: right;\n",
              "    }\n",
              "</style>\n",
              "<table border=\"1\" class=\"dataframe\">\n",
              "  <thead>\n",
              "    <tr style=\"text-align: right;\">\n",
              "      <th></th>\n",
              "      <th>score_root_Tense</th>\n",
              "      <th>score_root_Aspect</th>\n",
              "      <th>score_root_Number</th>\n",
              "      <th>score_nsubj_Animacy</th>\n",
              "      <th>score_nsubj_Gender</th>\n",
              "      <th>score_nsubj_Number</th>\n",
              "    </tr>\n",
              "    <tr>\n",
              "      <th>layer_index</th>\n",
              "      <th></th>\n",
              "      <th></th>\n",
              "      <th></th>\n",
              "      <th></th>\n",
              "      <th></th>\n",
              "      <th></th>\n",
              "    </tr>\n",
              "  </thead>\n",
              "  <tbody>\n",
              "    <tr>\n",
              "      <th>0</th>\n",
              "      <td>0.909524</td>\n",
              "      <td>0.916667</td>\n",
              "      <td>0.875000</td>\n",
              "      <td>0.964286</td>\n",
              "      <td>0.886364</td>\n",
              "      <td>0.875000</td>\n",
              "    </tr>\n",
              "    <tr>\n",
              "      <th>1</th>\n",
              "      <td>0.904762</td>\n",
              "      <td>0.916667</td>\n",
              "      <td>0.910714</td>\n",
              "      <td>0.952381</td>\n",
              "      <td>0.920455</td>\n",
              "      <td>0.833333</td>\n",
              "    </tr>\n",
              "    <tr>\n",
              "      <th>2</th>\n",
              "      <td>0.895238</td>\n",
              "      <td>0.916667</td>\n",
              "      <td>0.839286</td>\n",
              "      <td>0.940476</td>\n",
              "      <td>0.931818</td>\n",
              "      <td>0.916667</td>\n",
              "    </tr>\n",
              "    <tr>\n",
              "      <th>3</th>\n",
              "      <td>0.885714</td>\n",
              "      <td>0.916667</td>\n",
              "      <td>0.857143</td>\n",
              "      <td>0.952381</td>\n",
              "      <td>0.931818</td>\n",
              "      <td>0.875000</td>\n",
              "    </tr>\n",
              "    <tr>\n",
              "      <th>4</th>\n",
              "      <td>0.885714</td>\n",
              "      <td>0.916667</td>\n",
              "      <td>0.857143</td>\n",
              "      <td>0.952381</td>\n",
              "      <td>0.909091</td>\n",
              "      <td>0.875000</td>\n",
              "    </tr>\n",
              "  </tbody>\n",
              "</table>\n",
              "</div>\n",
              "      <button class=\"colab-df-convert\" onclick=\"convertToInteractive('df-285265ba-60e1-4d17-9aad-620372da4c97')\"\n",
              "              title=\"Convert this dataframe to an interactive table.\"\n",
              "              style=\"display:none;\">\n",
              "        \n",
              "  <svg xmlns=\"http://www.w3.org/2000/svg\" height=\"24px\"viewBox=\"0 0 24 24\"\n",
              "       width=\"24px\">\n",
              "    <path d=\"M0 0h24v24H0V0z\" fill=\"none\"/>\n",
              "    <path d=\"M18.56 5.44l.94 2.06.94-2.06 2.06-.94-2.06-.94-.94-2.06-.94 2.06-2.06.94zm-11 1L8.5 8.5l.94-2.06 2.06-.94-2.06-.94L8.5 2.5l-.94 2.06-2.06.94zm10 10l.94 2.06.94-2.06 2.06-.94-2.06-.94-.94-2.06-.94 2.06-2.06.94z\"/><path d=\"M17.41 7.96l-1.37-1.37c-.4-.4-.92-.59-1.43-.59-.52 0-1.04.2-1.43.59L10.3 9.45l-7.72 7.72c-.78.78-.78 2.05 0 2.83L4 21.41c.39.39.9.59 1.41.59.51 0 1.02-.2 1.41-.59l7.78-7.78 2.81-2.81c.8-.78.8-2.07 0-2.86zM5.41 20L4 18.59l7.72-7.72 1.47 1.35L5.41 20z\"/>\n",
              "  </svg>\n",
              "      </button>\n",
              "      \n",
              "  <style>\n",
              "    .colab-df-container {\n",
              "      display:flex;\n",
              "      flex-wrap:wrap;\n",
              "      gap: 12px;\n",
              "    }\n",
              "\n",
              "    .colab-df-convert {\n",
              "      background-color: #E8F0FE;\n",
              "      border: none;\n",
              "      border-radius: 50%;\n",
              "      cursor: pointer;\n",
              "      display: none;\n",
              "      fill: #1967D2;\n",
              "      height: 32px;\n",
              "      padding: 0 0 0 0;\n",
              "      width: 32px;\n",
              "    }\n",
              "\n",
              "    .colab-df-convert:hover {\n",
              "      background-color: #E2EBFA;\n",
              "      box-shadow: 0px 1px 2px rgba(60, 64, 67, 0.3), 0px 1px 3px 1px rgba(60, 64, 67, 0.15);\n",
              "      fill: #174EA6;\n",
              "    }\n",
              "\n",
              "    [theme=dark] .colab-df-convert {\n",
              "      background-color: #3B4455;\n",
              "      fill: #D2E3FC;\n",
              "    }\n",
              "\n",
              "    [theme=dark] .colab-df-convert:hover {\n",
              "      background-color: #434B5C;\n",
              "      box-shadow: 0px 1px 3px 1px rgba(0, 0, 0, 0.15);\n",
              "      filter: drop-shadow(0px 1px 2px rgba(0, 0, 0, 0.3));\n",
              "      fill: #FFFFFF;\n",
              "    }\n",
              "  </style>\n",
              "\n",
              "      <script>\n",
              "        const buttonEl =\n",
              "          document.querySelector('#df-285265ba-60e1-4d17-9aad-620372da4c97 button.colab-df-convert');\n",
              "        buttonEl.style.display =\n",
              "          google.colab.kernel.accessAllowed ? 'block' : 'none';\n",
              "\n",
              "        async function convertToInteractive(key) {\n",
              "          const element = document.querySelector('#df-285265ba-60e1-4d17-9aad-620372da4c97');\n",
              "          const dataTable =\n",
              "            await google.colab.kernel.invokeFunction('convertToInteractive',\n",
              "                                                     [key], {});\n",
              "          if (!dataTable) return;\n",
              "\n",
              "          const docLinkHtml = 'Like what you see? Visit the ' +\n",
              "            '<a target=\"_blank\" href=https://colab.research.google.com/notebooks/data_table.ipynb>data table notebook</a>'\n",
              "            + ' to learn more about interactive tables.';\n",
              "          element.innerHTML = '';\n",
              "          dataTable['output_type'] = 'display_data';\n",
              "          await google.colab.output.renderOutput(dataTable, element);\n",
              "          const docLink = document.createElement('div');\n",
              "          docLink.innerHTML = docLinkHtml;\n",
              "          element.appendChild(docLink);\n",
              "        }\n",
              "      </script>\n",
              "    </div>\n",
              "  </div>\n",
              "  "
            ]
          },
          "metadata": {},
          "execution_count": 64
        }
      ]
    },
    {
      "cell_type": "code",
      "source": [
        "temp.T.plot.bar(figsize=(10, 3), legend=False)"
      ],
      "metadata": {
        "colab": {
          "base_uri": "https://localhost:8080/",
          "height": 325
        },
        "id": "Nc18r8qQYM9W",
        "outputId": "288de12e-c4f2-450b-cf34-7bbe67d2cf72"
      },
      "execution_count": null,
      "outputs": [
        {
          "output_type": "execute_result",
          "data": {
            "text/plain": [
              "<matplotlib.axes._subplots.AxesSubplot at 0x7fe02df04fd0>"
            ]
          },
          "metadata": {},
          "execution_count": 83
        },
        {
          "output_type": "display_data",
          "data": {
            "text/plain": [
              "<Figure size 720x216 with 1 Axes>"
            ],
            "image/png": "[encoded data removed]"
          },
          "metadata": {
            "needs_background": "light"
          }
        }
      ]
    }
  ]
}